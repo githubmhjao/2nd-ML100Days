{
 "cells": [
  {
   "cell_type": "markdown",
   "metadata": {},
   "source": [
    "## [作業重點]\n",
    "使用 Sklearn 中的 Lasso, Ridge 模型，來訓練各種資料集，務必了解送進去模型訓練的**資料型態**為何，也請了解模型中各項參數的意義。\n",
    "\n",
    "機器學習的模型非常多種，但要訓練的資料多半有固定的格式，確保你了解訓練資料的格式為何，這樣在應用新模型時，就能夠最快的上手開始訓練！"
   ]
  },
  {
   "cell_type": "markdown",
   "metadata": {},
   "source": [
    "## 練習時間\n",
    "試著使用 sklearn datasets 的其他資料集 (boston, ...)，來訓練自己的線性迴歸模型，並加上適當的正則話來觀察訓練情形。"
   ]
  },
  {
   "cell_type": "code",
   "execution_count": 1,
   "metadata": {},
   "outputs": [],
   "source": [
    "import numpy as np\n",
    "import matplotlib.pyplot as plt\n",
    "from sklearn import datasets, linear_model\n",
    "from sklearn.model_selection import train_test_split\n",
    "from sklearn.metrics import mean_squared_error, r2_score"
   ]
  },
  {
   "cell_type": "code",
   "execution_count": 2,
   "metadata": {},
   "outputs": [],
   "source": [
    "boston = datasets.load_boston()"
   ]
  },
  {
   "cell_type": "code",
   "execution_count": 3,
   "metadata": {},
   "outputs": [],
   "source": [
    "def train_regr_from_data(regr, dataset):\n",
    "    data = dataset.data\n",
    "    target = dataset.target\n",
    "    \n",
    "    print(str(dataset.filename).split('\\\\')[-1])\n",
    "        \n",
    "    x_train, x_test, y_train, y_test = train_test_split(data, target, test_size=0.2, random_state=4)\n",
    "    print(f'x_train shape: {x_train.shape}')\n",
    "    print(f'y_train shape: {y_train.shape}')\n",
    "    \n",
    "    regr.fit(x_train, y_train)\n",
    "\n",
    "    y_pred = regr.predict(x_test)\n",
    "    \n",
    "    return y_pred, y_test, regr"
   ]
  },
  {
   "cell_type": "markdown",
   "metadata": {},
   "source": [
    "print(str(boston.filename).split('\\\\')[-1])"
   ]
  },
  {
   "cell_type": "code",
   "execution_count": 4,
   "metadata": {},
   "outputs": [
    {
     "name": "stdout",
     "output_type": "stream",
     "text": [
      "boston_house_prices.csv\n",
      "x_train shape: (404, 13)\n",
      "y_train shape: (404,)\n"
     ]
    }
   ],
   "source": [
    "lr_regr = linear_model.LinearRegression()\n",
    "\n",
    "lr_pred, lr_test, lr_regr_train = train_regr_from_data(lr_regr, boston)"
   ]
  },
  {
   "cell_type": "code",
   "execution_count": 5,
   "metadata": {},
   "outputs": [
    {
     "name": "stdout",
     "output_type": "stream",
     "text": [
      "boston_house_prices.csv\n",
      "x_train shape: (404, 13)\n",
      "y_train shape: (404,)\n"
     ]
    }
   ],
   "source": [
    "rr_a_regr = linear_model.Ridge(alpha=1.0)\n",
    "\n",
    "rr_a_pred, rr_a_test, rr_a_regr_train = train_regr_from_data(rr_a_regr, boston)"
   ]
  },
  {
   "cell_type": "code",
   "execution_count": 6,
   "metadata": {},
   "outputs": [
    {
     "name": "stdout",
     "output_type": "stream",
     "text": [
      "boston_house_prices.csv\n",
      "x_train shape: (404, 13)\n",
      "y_train shape: (404,)\n"
     ]
    }
   ],
   "source": [
    "rr_b_regr = linear_model.Ridge(alpha=0.1)\n",
    "\n",
    "rr_b_pred, rr_b_test, rr_b_regr_train = train_regr_from_data(rr_b_regr, boston)"
   ]
  },
  {
   "cell_type": "code",
   "execution_count": 7,
   "metadata": {},
   "outputs": [
    {
     "name": "stdout",
     "output_type": "stream",
     "text": [
      "boston_house_prices.csv\n",
      "x_train shape: (404, 13)\n",
      "y_train shape: (404,)\n"
     ]
    }
   ],
   "source": [
    "rr_c_regr = linear_model.Ridge(alpha=0.01)\n",
    "\n",
    "rr_c_pred, rr_c_test, rr_c_regr_train = train_regr_from_data(rr_c_regr, boston)"
   ]
  },
  {
   "cell_type": "code",
   "execution_count": 8,
   "metadata": {},
   "outputs": [
    {
     "name": "stdout",
     "output_type": "stream",
     "text": [
      "boston_house_prices.csv\n",
      "x_train shape: (404, 13)\n",
      "y_train shape: (404,)\n"
     ]
    }
   ],
   "source": [
    "LASSO_a_regr = linear_model.Lasso(alpha=1.0)\n",
    "\n",
    "LASSO_a_pred, LASSO_a_test, LASSO_a_regr_train = train_regr_from_data(LASSO_a_regr, boston)"
   ]
  },
  {
   "cell_type": "code",
   "execution_count": 9,
   "metadata": {},
   "outputs": [
    {
     "name": "stdout",
     "output_type": "stream",
     "text": [
      "boston_house_prices.csv\n",
      "x_train shape: (404, 13)\n",
      "y_train shape: (404,)\n"
     ]
    }
   ],
   "source": [
    "LASSO_b_regr = linear_model.Lasso(alpha=0.1)\n",
    "\n",
    "LASSO_b_pred, LASSO_b_test, LASSO_b_regr_train = train_regr_from_data(LASSO_b_regr, boston)"
   ]
  },
  {
   "cell_type": "code",
   "execution_count": 10,
   "metadata": {},
   "outputs": [
    {
     "name": "stdout",
     "output_type": "stream",
     "text": [
      "boston_house_prices.csv\n",
      "x_train shape: (404, 13)\n",
      "y_train shape: (404,)\n"
     ]
    }
   ],
   "source": [
    "LASSO_c_regr = linear_model.Lasso(alpha=0.01)\n",
    "\n",
    "LASSO_c_pred, LASSO_c_test, LASSO_c_regr_train = train_regr_from_data(LASSO_c_regr, boston)"
   ]
  },
  {
   "cell_type": "code",
   "execution_count": 11,
   "metadata": {},
   "outputs": [
    {
     "name": "stdout",
     "output_type": "stream",
     "text": [
      "mean squared error from LinearRegression: 25.41958712682191\n",
      "mean squared error from Ridge_alpha=1: 25.7436840800126\n",
      "mean squared error from Ridge_alpha=0.1: 25.45521174977981\n",
      "mean squared error from Ridge_alpha=0.01: 25.42304317647525\n",
      "mean squared error from LASSO_alpha=1: 28.95051203673903\n",
      "mean squared error from LASSO_alpha=0.1: 26.45288885360415\n",
      "mean squared error from LASSO_alpha=0.01: 25.484481383563832\n"
     ]
    }
   ],
   "source": [
    "print(f'mean squared error from LinearRegression: {mean_squared_error(lr_pred, lr_test)}')\n",
    "print(f'mean squared error from Ridge_alpha=1: {mean_squared_error(rr_a_pred, rr_a_test)}')\n",
    "print(f'mean squared error from Ridge_alpha=0.1: {mean_squared_error(rr_b_pred, rr_b_test)}')\n",
    "print(f'mean squared error from Ridge_alpha=0.01: {mean_squared_error(rr_c_pred, rr_c_test)}')\n",
    "print(f'mean squared error from LASSO_alpha=1: {mean_squared_error(LASSO_a_pred, LASSO_a_test)}')\n",
    "print(f'mean squared error from LASSO_alpha=0.1: {mean_squared_error(LASSO_b_pred, LASSO_b_test)}')\n",
    "print(f'mean squared error from LASSO_alpha=0.01: {mean_squared_error(LASSO_c_pred, LASSO_c_test)}')"
   ]
  },
  {
   "cell_type": "code",
   "execution_count": 12,
   "metadata": {},
   "outputs": [
    {
     "data": {
      "text/plain": [
       "<matplotlib.legend.Legend at 0x15e54efdbe0>"
      ]
     },
     "execution_count": 12,
     "metadata": {},
     "output_type": "execute_result"
    },
    {
     "data": {
      "image/png": "[encoded data removed]",
      "text/plain": [
       "<Figure size 432x288 with 1 Axes>"
      ]
     },
     "metadata": {
      "needs_background": "light"
     },
     "output_type": "display_data"
    }
   ],
   "source": [
    "plt.scatter(range(len(lr_regr_train.coef_)), lr_regr_train.coef_, label='lr')\n",
    "plt.scatter(range(len(rr_a_regr_train.coef_)), rr_a_regr_train.coef_, label='rr_a')\n",
    "plt.scatter(range(len(rr_b_regr_train.coef_)), rr_b_regr_train.coef_, label='rr_b')\n",
    "plt.scatter(range(len(rr_c_regr_train.coef_)), rr_c_regr_train.coef_, label='rr_c')\n",
    "plt.scatter(range(len(LASSO_a_regr_train.coef_)), LASSO_a_regr_train.coef_, label='LASSO_a')\n",
    "plt.scatter(range(len(LASSO_b_regr_train.coef_)), LASSO_b_regr_train.coef_, label='LASSO_b')\n",
    "plt.scatter(range(len(LASSO_c_regr_train.coef_)), LASSO_c_regr_train.coef_, label='LASSO_c')\n",
    "plt.xlabel('feature_index')\n",
    "plt.ylabel('feature_weight')\n",
    "plt.legend()"
   ]
  }
 ],
 "metadata": {
  "kernelspec": {
   "display_name": "Python 3",
   "language": "python",
   "name": "python3"
  },
  "language_info": {
   "codemirror_mode": {
    "name": "ipython",
    "version": 3
   },
   "file_extension": ".py",
   "mimetype": "text/x-python",
   "name": "python",
   "nbconvert_exporter": "python",
   "pygments_lexer": "ipython3",
   "version": "3.6.8"
  }
 },
 "nbformat": 4,
 "nbformat_minor": 2
}
