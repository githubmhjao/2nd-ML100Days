{
 "cells": [
  {
   "cell_type": "markdown",
   "metadata": {},
   "source": [
    "## [作業重點]\n",
    "目前你應該已經要很清楚資料集中，資料的型態是什麼樣子囉！包含特徵 (features) 與標籤 (labels)。因此要記得未來不管什麼專案，必須要把資料清理成相同的格式，才能送進模型訓練。\n",
    "今天的作業開始踏入決策樹這個非常重要的模型，請務必確保你理解模型中每個超參數的意思，並試著調整看看，對最終預測結果的影響為何"
   ]
  },
  {
   "cell_type": "markdown",
   "metadata": {},
   "source": [
    "## 作業\n",
    "\n",
    "1. 試著調整 DecisionTreeClassifier(...) 中的參數，並觀察是否會改變結果？\n",
    "2. 改用其他資料集 (boston, wine)，並與回歸模型的結果進行比較"
   ]
  },
  {
   "cell_type": "code",
   "execution_count": 1,
   "metadata": {},
   "outputs": [],
   "source": [
    "from sklearn import datasets, metrics\n",
    "\n",
    "# 如果是分類問題，請使用 DecisionTreeClassifier，若為回歸問題，請使用 DecisionTreeRegressor\n",
    "from sklearn.tree import DecisionTreeClassifier, DecisionTreeRegressor\n",
    "from sklearn.model_selection import train_test_split"
   ]
  },
  {
   "cell_type": "code",
   "execution_count": 2,
   "metadata": {},
   "outputs": [],
   "source": [
    "def train_regr_from_data(regr, skdataset):\n",
    "    data = skdataset.data\n",
    "    target = skdataset.target\n",
    "    \n",
    "    x_train, x_test, y_train, y_test = train_test_split(data, target, test_size=0.2, random_state=4)\n",
    "    \n",
    "    regr.fit(x_train, y_train)\n",
    "    \n",
    "    y_pred = regr.predict(x_test)\n",
    "    \n",
    "    print(f'train score: {regr.score(x_train, y_train)}')\n",
    "    print(f'test score: {regr.score(x_train, y_train)}')\n",
    "    \n",
    "    return y_pred, y_test, regr"
   ]
  },
  {
   "cell_type": "code",
   "execution_count": 3,
   "metadata": {},
   "outputs": [],
   "source": [
    "boston = datasets.load_boston()"
   ]
  },
  {
   "cell_type": "code",
   "execution_count": 4,
   "metadata": {},
   "outputs": [
    {
     "name": "stdout",
     "output_type": "stream",
     "text": [
      "train score: 1.0\n",
      "test score: 1.0\n"
     ]
    }
   ],
   "source": [
    "dtr_1 = DecisionTreeRegressor(min_samples_leaf=1)\n",
    "\n",
    "dtr_1_pred, dtr_1_test, dtr_1_train_rr = train_regr_from_data(dtr_1, boston)"
   ]
  },
  {
   "cell_type": "code",
   "execution_count": 5,
   "metadata": {},
   "outputs": [
    {
     "name": "stdout",
     "output_type": "stream",
     "text": [
      "train score: 0.9827660200715456\n",
      "test score: 0.9827660200715456\n"
     ]
    }
   ],
   "source": [
    "dtr_2 = DecisionTreeRegressor(min_samples_leaf=2)\n",
    "\n",
    "dtr_2_pred, dtr_2_test, dtr_2_train_rr = train_regr_from_data(dtr_2, boston)"
   ]
  },
  {
   "cell_type": "code",
   "execution_count": 6,
   "metadata": {},
   "outputs": [
    {
     "name": "stdout",
     "output_type": "stream",
     "text": [
      "train score: 0.9173888037360505\n",
      "test score: 0.9173888037360505\n"
     ]
    }
   ],
   "source": [
    "dtr_4 = DecisionTreeRegressor(min_samples_leaf=4)\n",
    "\n",
    "dtr_4_pred, dtr_4_test, dtr_4_train_rr = train_regr_from_data(dtr_4, boston)"
   ]
  },
  {
   "cell_type": "code",
   "execution_count": 7,
   "metadata": {},
   "outputs": [
    {
     "name": "stdout",
     "output_type": "stream",
     "text": [
      "mean squared error from DTR (min_samples_leaf = 1): 25.939607843137253\n",
      "mean squared error from DTR (min_samples_leaf = 2): 30.07754357298474\n",
      "mean squared error from DTR (min_samples_leaf = 4): 24.02143445822773\n"
     ]
    }
   ],
   "source": [
    "print(f'mean squared error from DTR (min_samples_leaf = 1): {metrics.mean_squared_error(dtr_1_pred, dtr_1_test)}')\n",
    "print(f'mean squared error from DTR (min_samples_leaf = 2): {metrics.mean_squared_error(dtr_2_pred, dtr_2_test)}')\n",
    "print(f'mean squared error from DTR (min_samples_leaf = 4): {metrics.mean_squared_error(dtr_4_pred, dtr_4_test)}')"
   ]
  },
  {
   "cell_type": "code",
   "execution_count": 8,
   "metadata": {},
   "outputs": [],
   "source": [
    "wine = datasets.load_wine()"
   ]
  },
  {
   "cell_type": "code",
   "execution_count": 9,
   "metadata": {},
   "outputs": [
    {
     "name": "stdout",
     "output_type": "stream",
     "text": [
      "train score: 1.0\n",
      "test score: 1.0\n"
     ]
    }
   ],
   "source": [
    "dtc_1 = DecisionTreeClassifier(min_samples_leaf=1)\n",
    "\n",
    "dtc_1_pred, dtc_1_test, dtc_1_train_rr = train_regr_from_data(dtc_1, wine)"
   ]
  },
  {
   "cell_type": "code",
   "execution_count": 10,
   "metadata": {},
   "outputs": [
    {
     "name": "stdout",
     "output_type": "stream",
     "text": [
      "train score: 0.9859154929577465\n",
      "test score: 0.9859154929577465\n"
     ]
    }
   ],
   "source": [
    "dtc_2 = DecisionTreeClassifier(min_samples_leaf=2)\n",
    "\n",
    "dtc_2_pred, dtc_2_test, dtc_2_train_rr = train_regr_from_data(dtc_2, wine)"
   ]
  },
  {
   "cell_type": "code",
   "execution_count": 11,
   "metadata": {},
   "outputs": [
    {
     "name": "stdout",
     "output_type": "stream",
     "text": [
      "train score: 0.9507042253521126\n",
      "test score: 0.9507042253521126\n"
     ]
    }
   ],
   "source": [
    "dtc_4 = DecisionTreeClassifier(min_samples_leaf=4)\n",
    "\n",
    "dtc_4_pred, dtc_4_test, dtc_4_train_rr = train_regr_from_data(dtc_4, wine)"
   ]
  },
  {
   "cell_type": "code",
   "execution_count": 12,
   "metadata": {},
   "outputs": [
    {
     "name": "stdout",
     "output_type": "stream",
     "text": [
      "accuracy from DTC (min_samples_leaf = 1): 0.9166666666666666\n",
      "accuracy from DTC (min_samples_leaf = 2): 0.8611111111111112\n",
      "accuracy from DTc (min_samples_leaf = 4): 0.8611111111111112\n"
     ]
    }
   ],
   "source": [
    "print(f'accuracy from DTC (min_samples_leaf = 1): {metrics.accuracy_score(dtc_1_pred, dtc_1_test)}')\n",
    "print(f'accuracy from DTC (min_samples_leaf = 2): {metrics.accuracy_score(dtc_2_pred, dtc_2_test)}')\n",
    "print(f'accuracy from DTc (min_samples_leaf = 4): {metrics.accuracy_score(dtc_4_pred, dtc_4_test)}')"
   ]
  },
  {
   "cell_type": "code",
   "execution_count": 13,
   "metadata": {},
   "outputs": [],
   "source": [
    "diabetes = datasets.load_diabetes()"
   ]
  },
  {
   "cell_type": "code",
   "execution_count": 14,
   "metadata": {},
   "outputs": [
    {
     "name": "stdout",
     "output_type": "stream",
     "text": [
      "train score: 1.0\n",
      "test score: 1.0\n",
      "mean squared error: 8529.033707865168\n"
     ]
    }
   ],
   "source": [
    "dtr = DecisionTreeRegressor(min_samples_leaf=1)\n",
    "\n",
    "dtr_pred, dtr_test, dtr_train_rr = train_regr_from_data(dtr, diabetes)\n",
    "\n",
    "print(f'mean squared error: {metrics.mean_squared_error(dtr_pred, dtr_test)}')"
   ]
  }
 ],
 "metadata": {
  "kernelspec": {
   "display_name": "Python 3",
   "language": "python",
   "name": "python3"
  },
  "language_info": {
   "codemirror_mode": {
    "name": "ipython",
    "version": 3
   },
   "file_extension": ".py",
   "mimetype": "text/x-python",
   "name": "python",
   "nbconvert_exporter": "python",
   "pygments_lexer": "ipython3",
   "version": "3.6.8"
  }
 },
 "nbformat": 4,
 "nbformat_minor": 2
}
