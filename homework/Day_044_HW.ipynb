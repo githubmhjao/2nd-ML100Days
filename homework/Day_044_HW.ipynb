{
 "cells": [
  {
   "cell_type": "markdown",
   "metadata": {},
   "source": [
    "## [作業重點]\n",
    "確保你了解隨機森林模型中每個超參數的意義，並觀察調整超參數對結果的影響"
   ]
  },
  {
   "cell_type": "markdown",
   "metadata": {},
   "source": [
    "## 作業\n",
    "\n",
    "1. 試著調整 RandomForestClassifier(...) 中的參數，並觀察是否會改變結果？\n",
    "2. 改用其他資料集 (boston, wine)，並與回歸模型與決策樹的結果進行比較"
   ]
  },
  {
   "cell_type": "code",
   "execution_count": 1,
   "metadata": {},
   "outputs": [],
   "source": [
    "from sklearn import datasets, metrics\n",
    "from sklearn.ensemble import RandomForestClassifier\n",
    "from sklearn.model_selection import train_test_split"
   ]
  },
  {
   "cell_type": "code",
   "execution_count": 2,
   "metadata": {},
   "outputs": [],
   "source": [
    "def train_regr_from_data(regr, skdataset):\n",
    "    data = skdataset.data\n",
    "    target = skdataset.target\n",
    "    \n",
    "    x_train, x_test, y_train, y_test = train_test_split(data, target, test_size=0.2, random_state=4)\n",
    "    \n",
    "    regr.fit(x_train, y_train)\n",
    "    \n",
    "    y_pred = regr.predict(x_test)\n",
    "    \n",
    "    print(f'train score:\\t{regr.score(x_train, y_train):.2f}')\n",
    "    print(f'test score:\\t{regr.score(x_test, y_test):.2f}')\n",
    "    \n",
    "    return y_pred, y_test, regr"
   ]
  },
  {
   "cell_type": "code",
   "execution_count": 3,
   "metadata": {},
   "outputs": [],
   "source": [
    "wine = datasets.load_wine()"
   ]
  },
  {
   "cell_type": "code",
   "execution_count": 4,
   "metadata": {},
   "outputs": [
    {
     "name": "stdout",
     "output_type": "stream",
     "text": [
      "train score:\t0.99\n",
      "test score:\t1.00\n",
      "accuracy score: 1.0\n"
     ]
    }
   ],
   "source": [
    "rfc_20_4 = RandomForestClassifier(n_estimators=20, max_depth=4)\n",
    "\n",
    "rfc_20_4_pred, rfc_20_4_test, rfc_20_4_train_rr = train_regr_from_data(rfc_20_4, wine)\n",
    "\n",
    "print(f'accuracy score: {metrics.accuracy_score(rfc_20_4_pred, rfc_20_4_test)}')"
   ]
  },
  {
   "cell_type": "code",
   "execution_count": 5,
   "metadata": {},
   "outputs": [
    {
     "name": "stdout",
     "output_type": "stream",
     "text": [
      "train score:\t1.00\n",
      "test score:\t1.00\n",
      "accuracy score: 1.0\n"
     ]
    }
   ],
   "source": [
    "rfc_10_4 = RandomForestClassifier(n_estimators=10, max_depth=4)\n",
    "\n",
    "rfc_10_4_pred, rfc_10_4_test, rfc_10_4_train_rr = train_regr_from_data(rfc_10_4, wine)\n",
    "\n",
    "print(f'accuracy score: {metrics.accuracy_score(rfc_10_4_pred, rfc_10_4_test)}')"
   ]
  },
  {
   "cell_type": "code",
   "execution_count": 6,
   "metadata": {},
   "outputs": [
    {
     "name": "stdout",
     "output_type": "stream",
     "text": [
      "train score:\t0.99\n",
      "test score:\t0.92\n",
      "accuracy score: 0.9166666666666666\n"
     ]
    }
   ],
   "source": [
    "rfc_5_4 = RandomForestClassifier(n_estimators=5, max_depth=4)\n",
    "\n",
    "rfc_5_4_pred, rfc_5_4_test, rfc_5_4_train_rr = train_regr_from_data(rfc_5_4, wine)\n",
    "\n",
    "print(f'accuracy score: {metrics.accuracy_score(rfc_5_4_pred, rfc_5_4_test)}')"
   ]
  },
  {
   "cell_type": "code",
   "execution_count": 7,
   "metadata": {},
   "outputs": [],
   "source": [
    "from sklearn.ensemble import RandomForestRegressor"
   ]
  },
  {
   "cell_type": "code",
   "execution_count": 8,
   "metadata": {},
   "outputs": [],
   "source": [
    "diabetes = datasets.load_diabetes()"
   ]
  },
  {
   "cell_type": "code",
   "execution_count": 9,
   "metadata": {},
   "outputs": [
    {
     "name": "stdout",
     "output_type": "stream",
     "text": [
      "train score:\t0.66\n",
      "test score:\t0.38\n",
      "mean squared error: 3396.294831255442\n"
     ]
    }
   ],
   "source": [
    "rfr_40_4 = RandomForestRegressor(n_estimators=40, max_depth=4)\n",
    "\n",
    "rfr_40_4_pred, rfr_40_4_test, rfr_40_4_train_rr = train_regr_from_data(rfr_40_4, diabetes)\n",
    "\n",
    "print(f'mean squared error: {metrics.mean_squared_error(rfr_40_4_pred, rfr_40_4_test)}')"
   ]
  },
  {
   "cell_type": "code",
   "execution_count": 10,
   "metadata": {},
   "outputs": [
    {
     "name": "stdout",
     "output_type": "stream",
     "text": [
      "train score:\t0.66\n",
      "test score:\t0.39\n",
      "mean squared error: 3313.189913582593\n"
     ]
    }
   ],
   "source": [
    "rfr_20_4 = RandomForestRegressor(n_estimators=20, max_depth=4)\n",
    "\n",
    "rfr_20_4_pred, rfr_20_4_test, rfr_20_4_train_rr = train_regr_from_data(rfr_20_4, diabetes)\n",
    "\n",
    "print(f'mean squared error: {metrics.mean_squared_error(rfr_20_4_pred, rfr_20_4_test)}')"
   ]
  },
  {
   "cell_type": "code",
   "execution_count": 11,
   "metadata": {},
   "outputs": [
    {
     "name": "stdout",
     "output_type": "stream",
     "text": [
      "train score:\t0.50\n",
      "test score:\t0.42\n",
      "mean squared error: 3152.0380179211347\n"
     ]
    }
   ],
   "source": [
    "rfr_40_2 = RandomForestRegressor(n_estimators=40, max_depth=2)\n",
    "\n",
    "rfr_40_2_pred, rfr_40_2_test, rfr_40_2_train_rr = train_regr_from_data(rfr_40_2, diabetes)\n",
    "\n",
    "print(f'mean squared error: {metrics.mean_squared_error(rfr_40_2_pred, rfr_40_2_test)}')"
   ]
  },
  {
   "cell_type": "code",
   "execution_count": 12,
   "metadata": {},
   "outputs": [
    {
     "name": "stdout",
     "output_type": "stream",
     "text": [
      "train score:\t0.65\n",
      "test score:\t0.40\n",
      "mean squared error: 3272.061800972709\n"
     ]
    }
   ],
   "source": [
    "rfr_10_4 = RandomForestRegressor(n_estimators=10, max_depth=4)\n",
    "\n",
    "rfr_10_4_pred, rfr_10_4_test, rfr_10_4_train_rr = train_regr_from_data(rfr_10_4, diabetes)\n",
    "\n",
    "print(f'mean squared error: {metrics.mean_squared_error(rfr_10_4_pred, rfr_10_4_test)}')"
   ]
  },
  {
   "cell_type": "code",
   "execution_count": 13,
   "metadata": {},
   "outputs": [
    {
     "name": "stdout",
     "output_type": "stream",
     "text": [
      "train score:\t0.78\n",
      "test score:\t0.32\n",
      "mean squared error: 3728.6175769542383\n"
     ]
    }
   ],
   "source": [
    "rfr_10_6 = RandomForestRegressor(n_estimators=10, max_depth=6)\n",
    "\n",
    "rfr_10_6_pred, rfr_10_6_test, rfr_10_6_train_rr = train_regr_from_data(rfr_10_6, diabetes)\n",
    "\n",
    "print(f'mean squared error: {metrics.mean_squared_error(rfr_10_6_pred, rfr_10_6_test)}')"
   ]
  },
  {
   "cell_type": "code",
   "execution_count": null,
   "metadata": {},
   "outputs": [],
   "source": []
  }
 ],
 "metadata": {
  "kernelspec": {
   "display_name": "Python 3",
   "language": "python",
   "name": "python3"
  },
  "language_info": {
   "codemirror_mode": {
    "name": "ipython",
    "version": 3
   },
   "file_extension": ".py",
   "mimetype": "text/x-python",
   "name": "python",
   "nbconvert_exporter": "python",
   "pygments_lexer": "ipython3",
   "version": "3.6.8"
  }
 },
 "nbformat": 4,
 "nbformat_minor": 2
}
