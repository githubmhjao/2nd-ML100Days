{
 "cells": [
  {
   "cell_type": "markdown",
   "metadata": {},
   "source": [
    "## Work\n",
    "1. 請嘗試將 preproc_x 替換成以每筆資料的 min/max 進行標準化至 -1 ~ 1 間，再進行訓練\n",
    "2. 請嘗試將 mlp 疊更深 (e.g 5~10 層)，進行訓練後觀察 learning curve 的走勢\n",
    "3. (optional) 請改用 GPU 進行訓練 (如果你有 GPU 的話)，比較使用 CPU 與 GPU 的訓練速度"
   ]
  },
  {
   "cell_type": "code",
   "execution_count": 1,
   "metadata": {},
   "outputs": [],
   "source": [
    "## \n",
    "\"\"\"\n",
    "Your code here (optional)\n",
    "確認硬體資源\n",
    "\"\"\"\n"
   ]
  },
  {
   "cell_type": "code",
   "execution_count": 1,
   "metadata": {},
   "outputs": [
    {
     "name": "stderr",
     "output_type": "stream",
     "text": [
      "Using TensorFlow backend.\n"
     ]
    }
   ],
   "source": [
    "import os\n",
    "import keras\n",
    "\n",
    "# 請嘗試設定 GPU：os.environ\n"
   ]
  },
  {
   "cell_type": "code",
   "execution_count": 2,
   "metadata": {},
   "outputs": [],
   "source": [
    "train, test = keras.datasets.cifar10.load_data()"
   ]
  },
  {
   "cell_type": "code",
   "execution_count": 24,
   "metadata": {},
   "outputs": [
    {
     "data": {
      "text/plain": [
       "array([[[0, 0, 0],\n",
       "        [0, 0, 0],\n",
       "        [0, 0, 0],\n",
       "        ...,\n",
       "        [0, 0, 0],\n",
       "        [0, 0, 0],\n",
       "        [0, 0, 0]],\n",
       "\n",
       "       [[0, 0, 0],\n",
       "        [0, 0, 0],\n",
       "        [0, 0, 0],\n",
       "        ...,\n",
       "        [0, 0, 0],\n",
       "        [0, 0, 0],\n",
       "        [0, 0, 0]],\n",
       "\n",
       "       [[0, 0, 0],\n",
       "        [0, 0, 0],\n",
       "        [0, 0, 0],\n",
       "        ...,\n",
       "        [0, 0, 0],\n",
       "        [0, 0, 0],\n",
       "        [0, 0, 0]],\n",
       "\n",
       "       ...,\n",
       "\n",
       "       [[0, 0, 0],\n",
       "        [0, 0, 0],\n",
       "        [0, 0, 0],\n",
       "        ...,\n",
       "        [0, 0, 0],\n",
       "        [0, 0, 0],\n",
       "        [0, 0, 0]],\n",
       "\n",
       "       [[0, 0, 0],\n",
       "        [0, 0, 0],\n",
       "        [0, 0, 0],\n",
       "        ...,\n",
       "        [0, 0, 0],\n",
       "        [0, 0, 0],\n",
       "        [0, 0, 0]],\n",
       "\n",
       "       [[0, 0, 0],\n",
       "        [0, 0, 0],\n",
       "        [0, 0, 0],\n",
       "        ...,\n",
       "        [0, 0, 0],\n",
       "        [0, 0, 0],\n",
       "        [0, 0, 0]]])"
      ]
     },
     "execution_count": 24,
     "metadata": {},
     "output_type": "execute_result"
    }
   ],
   "source": [
    "train[0][0, :, :, :].astype(int)"
   ]
  },
  {
   "cell_type": "code",
   "execution_count": 25,
   "metadata": {},
   "outputs": [],
   "source": [
    "## 資料前處理\n",
    "\"\"\"\n",
    "Your code here\n",
    "\"\"\"\n",
    "def preproc_x(x, flatten=True):\n",
    "    x = x.astype(int)\n",
    "    for i in range(len(x)):\n",
    "        r_min = x[i, :, :, 0].min(); r_max = x[i, :, :, 0].max(); r_range = r_max - r_min\n",
    "        g_min = x[i, :, :, 1].min(); g_max = x[i, :, :, 1].max(); g_range = g_max - g_min\n",
    "        b_min = x[i, :, :, 2].min(); b_max = x[i, :, :, 2].max(); b_range = b_max - b_min\n",
    "        \n",
    "        x[i, :, :, 0] = (x[i, :, :, 0]-r_min)/r_range\n",
    "        x[i, :, :, 1] = (x[i, :, :, 1]-g_min)/g_range\n",
    "        x[i, :, :, 2] = (x[i, :, :, 2]-b_min)/b_range\n",
    "        \n",
    "        x[i, :, :, :] = x[i, :, :, :]*2 - 1\n",
    "    \n",
    "    if flatten:\n",
    "        x = x.reshape((len(x), -1))\n",
    "    return x\n",
    "\n",
    "def preproc_y(y, num_classes=10):\n",
    "    if y.shape[-1] == 1:\n",
    "        y = keras.utils.to_categorical(y, num_classes)\n",
    "    return y"
   ]
  },
  {
   "cell_type": "code",
   "execution_count": 26,
   "metadata": {},
   "outputs": [],
   "source": [
    "x_train, y_train = train\n",
    "x_test, y_test = test\n",
    "\n",
    "# Preproc the inputs\n",
    "x_train = preproc_x(x_train)\n",
    "x_test = preproc_x(x_test)\n",
    "\n",
    "# Preprc the outputs\n",
    "y_train = preproc_y(y_train)\n",
    "y_test = preproc_y(y_test)"
   ]
  },
  {
   "cell_type": "code",
   "execution_count": 32,
   "metadata": {},
   "outputs": [
    {
     "data": {
      "text/plain": [
       "(3072,)"
      ]
     },
     "execution_count": 32,
     "metadata": {},
     "output_type": "execute_result"
    }
   ],
   "source": [
    "x_train.shape[1:]"
   ]
  },
  {
   "cell_type": "code",
   "execution_count": 33,
   "metadata": {},
   "outputs": [
    {
     "name": "stdout",
     "output_type": "stream",
     "text": [
      "WARNING:tensorflow:From C:\\Users\\Meng-Huan\\Anaconda3\\envs\\tensorflow_env\\lib\\site-packages\\tensorflow\\python\\framework\\op_def_library.py:263: colocate_with (from tensorflow.python.framework.ops) is deprecated and will be removed in a future version.\n",
      "Instructions for updating:\n",
      "Colocations handled automatically by placer.\n",
      "_________________________________________________________________\n",
      "Layer (type)                 Output Shape              Param #   \n",
      "=================================================================\n",
      "input_1 (InputLayer)         (None, 3072)              0         \n",
      "_________________________________________________________________\n",
      "hidden_layer1 (Dense)        (None, 512)               1573376   \n",
      "_________________________________________________________________\n",
      "hidden_layer2 (Dense)        (None, 512)               262656    \n",
      "_________________________________________________________________\n",
      "hidden_layer3 (Dense)        (None, 256)               131328    \n",
      "_________________________________________________________________\n",
      "hidden_layer4 (Dense)        (None, 256)               65792     \n",
      "_________________________________________________________________\n",
      "hidden_layer5 (Dense)        (None, 128)               32896     \n",
      "_________________________________________________________________\n",
      "hidden_layer6 (Dense)        (None, 128)               16512     \n",
      "_________________________________________________________________\n",
      "output (Dense)               (None, 10)                1290      \n",
      "=================================================================\n",
      "Total params: 2,083,850\n",
      "Trainable params: 2,083,850\n",
      "Non-trainable params: 0\n",
      "_________________________________________________________________\n"
     ]
    }
   ],
   "source": [
    "\"\"\"Code Here\n",
    "建立你的神經網路\n",
    "\"\"\"\n",
    "def build_mlp(input_shape, output_units=10, num_neurons=[512, 256, 128]):\n",
    "    input_layer = keras.layers.Input(input_shape)\n",
    "    \n",
    "    for i, n_units in enumerate(num_neurons):\n",
    "        if i == 0:\n",
    "            x = keras.layers.Dense(units=n_units, activation=\"relu\", name=\"hidden_layer\"+str(i+1))(input_layer)\n",
    "        else:\n",
    "            x = keras.layers.Dense(units=n_units, activation=\"relu\", name=\"hidden_layer\"+str(i+1))(x)\n",
    "    \n",
    "    out = keras.layers.Dense(units=output_units, activation=\"softmax\", name=\"output\")(x)\n",
    "    \n",
    "    model = keras.models.Model(inputs=[input_layer], outputs=[out])\n",
    "    return model\n",
    "\n",
    "model = build_mlp(input_shape=x_train.shape[1:], num_neurons=[512, 512, 256, 256, 128, 128])\n",
    "model.summary()"
   ]
  },
  {
   "cell_type": "code",
   "execution_count": 34,
   "metadata": {},
   "outputs": [],
   "source": [
    "## 超參數設定\n",
    "LEARNING_RATE = 0.001\n",
    "EPOCHS = 100\n",
    "BATCH_SIZE = 256"
   ]
  },
  {
   "cell_type": "code",
   "execution_count": 35,
   "metadata": {},
   "outputs": [],
   "source": [
    "optimizer = keras.optimizers.Adam(lr=LEARNING_RATE)\n",
    "model.compile(loss=\"categorical_crossentropy\", metrics=[\"accuracy\"], optimizer=optimizer)"
   ]
  },
  {
   "cell_type": "code",
   "execution_count": 36,
   "metadata": {},
   "outputs": [
    {
     "name": "stdout",
     "output_type": "stream",
     "text": [
      "WARNING:tensorflow:From C:\\Users\\Meng-Huan\\Anaconda3\\envs\\tensorflow_env\\lib\\site-packages\\tensorflow\\python\\ops\\math_ops.py:3066: to_int32 (from tensorflow.python.ops.math_ops) is deprecated and will be removed in a future version.\n",
      "Instructions for updating:\n",
      "Use tf.cast instead.\n",
      "Train on 50000 samples, validate on 10000 samples\n",
      "Epoch 1/100\n",
      "50000/50000 [==============================] - 22s 430us/step - loss: 2.3093 - acc: 0.1082 - val_loss: 2.2864 - val_acc: 0.1034\n",
      "Epoch 2/100\n",
      "50000/50000 [==============================] - 19s 379us/step - loss: 2.2857 - acc: 0.1171 - val_loss: 2.2907 - val_acc: 0.1050. - ETA: 10s - loss: 2.2856 - ac - ETA: 9s - loss: 2.2859 - acc: 0 - ETA: 8s - loss: 2.2857 - acc: - - ETA:  - ETA: 2s -\n",
      "Epoch 3/100\n",
      "50000/50000 [==============================] - 19s 382us/step - loss: 2.2885 - acc: 0.1116 - val_loss: 2.2828 - val_acc: 0.1284\n",
      "Epoch 4/100\n",
      "50000/50000 [==============================] - 19s 380us/step - loss: 2.2785 - acc: 0.1148 - val_loss: 2.2788 - val_acc: 0.1179\n",
      "Epoch 5/100\n",
      "50000/50000 [==============================] - 20s 395us/step - loss: 2.2710 - acc: 0.1214 - val_loss: 2.2770 - val_acc: 0.1203\n",
      "Epoch 6/100\n",
      "50000/50000 [==============================] - 16s 329us/step - loss: 2.2712 - acc: 0.1194 - val_loss: 2.2769 - val_acc: 0.1222\n",
      "Epoch 7/100\n",
      "50000/50000 [==============================] - 14s 282us/step - loss: 2.2597 - acc: 0.1299 - val_loss: 2.2659 - val_acc: 0.1243\n",
      "Epoch 8/100\n",
      "50000/50000 [==============================] - 14s 274us/step - loss: 2.2665 - acc: 0.1223 - val_loss: 2.2569 - val_acc: 0.1244\n",
      "Epoch 9/100\n",
      "50000/50000 [==============================] - 14s 277us/step - loss: 2.2595 - acc: 0.1262 - val_loss: 2.2609 - val_acc: 0.1345\n",
      "Epoch 10/100\n",
      "50000/50000 [==============================] - 14s 273us/step - loss: 2.2572 - acc: 0.1252 - val_loss: 2.2552 - val_acc: 0.1456\n",
      "Epoch 11/100\n",
      "50000/50000 [==============================] - 14s 273us/step - loss: 2.2675 - acc: 0.1214 - val_loss: 2.3025 - val_acc: 0.1111\n",
      "Epoch 12/100\n",
      "50000/50000 [==============================] - 14s 278us/step - loss: 2.2641 - acc: 0.1244 - val_loss: 2.2652 - val_acc: 0.1308\n",
      "Epoch 13/100\n",
      "50000/50000 [==============================] - 14s 277us/step - loss: 2.2487 - acc: 0.1328 - val_loss: 2.2862 - val_acc: 0.1162\n",
      "Epoch 14/100\n",
      "50000/50000 [==============================] - 14s 273us/step - loss: 2.2503 - acc: 0.1289 - val_loss: 2.2713 - val_acc: 0.1284\n",
      "Epoch 15/100\n",
      "50000/50000 [==============================] - 14s 277us/step - loss: 2.2447 - acc: 0.1353 - val_loss: 2.2941 - val_acc: 0.1130\n",
      "Epoch 16/100\n",
      "50000/50000 [==============================] - 14s 280us/step - loss: 2.2574 - acc: 0.1248 - val_loss: 2.2718 - val_acc: 0.1348\n",
      "Epoch 17/100\n",
      "50000/50000 [==============================] - 14s 277us/step - loss: 2.2507 - acc: 0.1287 - val_loss: 2.2789 - val_acc: 0.1234\n",
      "Epoch 18/100\n",
      "50000/50000 [==============================] - 14s 279us/step - loss: 2.2446 - acc: 0.1333 - val_loss: 2.2886 - val_acc: 0.1208\n",
      "Epoch 19/100\n",
      "50000/50000 [==============================] - 14s 279us/step - loss: 2.2435 - acc: 0.1300 - val_loss: 2.2741 - val_acc: 0.1164\n",
      "Epoch 20/100\n",
      "50000/50000 [==============================] - 14s 283us/step - loss: 2.2411 - acc: 0.1349 - val_loss: 2.2856 - val_acc: 0.1207\n",
      "Epoch 21/100\n",
      "50000/50000 [==============================] - 14s 284us/step - loss: 2.2340 - acc: 0.1387 - val_loss: 2.2761 - val_acc: 0.1247\n",
      "Epoch 22/100\n",
      "50000/50000 [==============================] - 14s 284us/step - loss: 2.2302 - acc: 0.1414 - val_loss: 2.2584 - val_acc: 0.1451\n",
      "Epoch 23/100\n",
      "50000/50000 [==============================] - 14s 285us/step - loss: 2.2382 - acc: 0.1321 - val_loss: 2.2853 - val_acc: 0.1240\n",
      "Epoch 24/100\n",
      "50000/50000 [==============================] - 15s 295us/step - loss: 2.2281 - acc: 0.1410 - val_loss: 2.2721 - val_acc: 0.1322\n",
      "Epoch 25/100\n",
      "50000/50000 [==============================] - 14s 289us/step - loss: 2.2262 - acc: 0.1423 - val_loss: 2.2870 - val_acc: 0.1238\n",
      "Epoch 26/100\n",
      "50000/50000 [==============================] - 15s 291us/step - loss: 2.2281 - acc: 0.1387 - val_loss: 2.2903 - val_acc: 0.1176\n",
      "Epoch 27/100\n",
      "50000/50000 [==============================] - 15s 293us/step - loss: 2.2298 - acc: 0.1375 - val_loss: 2.3056 - val_acc: 0.1190\n",
      "Epoch 28/100\n",
      "50000/50000 [==============================] - 15s 294us/step - loss: 2.2321 - acc: 0.1396 - val_loss: 2.2690 - val_acc: 0.1353\n",
      "Epoch 29/100\n",
      "50000/50000 [==============================] - 15s 297us/step - loss: 2.2213 - acc: 0.1449 - val_loss: 2.3031 - val_acc: 0.1189\n",
      "Epoch 30/100\n",
      "50000/50000 [==============================] - 15s 299us/step - loss: 2.2397 - acc: 0.1313 - val_loss: 2.2974 - val_acc: 0.1171\n",
      "Epoch 31/100\n",
      "50000/50000 [==============================] - 15s 301us/step - loss: 2.2342 - acc: 0.1341 - val_loss: 2.2857 - val_acc: 0.1233\n",
      "Epoch 32/100\n",
      "50000/50000 [==============================] - 15s 304us/step - loss: 2.2321 - acc: 0.1352 - val_loss: 2.2924 - val_acc: 0.1167\n",
      "Epoch 33/100\n",
      "50000/50000 [==============================] - 15s 303us/step - loss: 2.2334 - acc: 0.1356 - val_loss: 2.2839 - val_acc: 0.1270\n",
      "Epoch 34/100\n",
      "50000/50000 [==============================] - 15s 304us/step - loss: 2.2196 - acc: 0.1461 - val_loss: 2.2964 - val_acc: 0.1172\n",
      "Epoch 35/100\n",
      "50000/50000 [==============================] - 15s 304us/step - loss: 2.2349 - acc: 0.1326 - val_loss: 2.2919 - val_acc: 0.1241\n",
      "Epoch 36/100\n",
      "50000/50000 [==============================] - 15s 304us/step - loss: 2.2448 - acc: 0.1273 - val_loss: 2.3044 - val_acc: 0.1206\n",
      "Epoch 37/100\n",
      "50000/50000 [==============================] - 15s 309us/step - loss: 2.2394 - acc: 0.1327 - val_loss: 2.2874 - val_acc: 0.1196\n",
      "Epoch 38/100\n",
      "50000/50000 [==============================] - 15s 309us/step - loss: 2.2409 - acc: 0.1317 - val_loss: 2.2974 - val_acc: 0.1214\n",
      "Epoch 39/100\n",
      "50000/50000 [==============================] - 15s 309us/step - loss: 2.2412 - acc: 0.1337 - val_loss: 2.2950 - val_acc: 0.1096\n",
      "Epoch 40/100\n",
      "50000/50000 [==============================] - 16s 314us/step - loss: 2.2365 - acc: 0.1341 - val_loss: 2.3062 - val_acc: 0.1159\n",
      "Epoch 41/100\n",
      "50000/50000 [==============================] - 16s 314us/step - loss: 2.2307 - acc: 0.1364 - val_loss: 2.2832 - val_acc: 0.1430\n",
      "Epoch 42/100\n",
      "50000/50000 [==============================] - 16s 313us/step - loss: 2.2566 - acc: 0.1187 - val_loss: 2.3022 - val_acc: 0.1055\n",
      "Epoch 43/100\n",
      "50000/50000 [==============================] - 16s 314us/step - loss: 2.2479 - acc: 0.1238 - val_loss: 2.3078 - val_acc: 0.1104\n",
      "Epoch 44/100\n",
      "50000/50000 [==============================] - 16s 314us/step - loss: 2.2498 - acc: 0.1238 - val_loss: 2.3015 - val_acc: 0.1122\n",
      "Epoch 45/100\n",
      "50000/50000 [==============================] - 16s 316us/step - loss: 2.2403 - acc: 0.1304 - val_loss: 2.3059 - val_acc: 0.1172\n",
      "Epoch 46/100\n",
      "50000/50000 [==============================] - 16s 316us/step - loss: 2.2336 - acc: 0.1335 - val_loss: 2.3037 - val_acc: 0.1201\n",
      "Epoch 47/100\n",
      "50000/50000 [==============================] - 16s 321us/step - loss: 2.2225 - acc: 0.1404 - val_loss: 2.2887 - val_acc: 0.1304\n",
      "Epoch 48/100\n",
      "50000/50000 [==============================] - 16s 316us/step - loss: 2.2270 - acc: 0.1360 - val_loss: 2.3379 - val_acc: 0.1232\n",
      "Epoch 49/100\n",
      "50000/50000 [==============================] - 16s 318us/step - loss: 2.2188 - acc: 0.1426 - val_loss: 2.2893 - val_acc: 0.1298\n",
      "Epoch 50/100\n",
      "50000/50000 [==============================] - 16s 320us/step - loss: 2.2431 - acc: 0.1270 - val_loss: 2.3214 - val_acc: 0.1166\n",
      "Epoch 51/100\n",
      "50000/50000 [==============================] - 16s 320us/step - loss: 2.2270 - acc: 0.1353 - val_loss: 2.3025 - val_acc: 0.1191\n",
      "Epoch 52/100\n",
      "50000/50000 [==============================] - 16s 321us/step - loss: 2.2251 - acc: 0.1351 - val_loss: 2.2885 - val_acc: 0.1328\n",
      "Epoch 53/100\n",
      "50000/50000 [==============================] - 16s 322us/step - loss: 2.2358 - acc: 0.1298 - val_loss: 2.3224 - val_acc: 0.1179\n",
      "Epoch 54/100\n",
      "50000/50000 [==============================] - 16s 323us/step - loss: 2.2352 - acc: 0.1346 - val_loss: 2.3102 - val_acc: 0.1212\n",
      "Epoch 55/100\n",
      "50000/50000 [==============================] - 16s 329us/step - loss: 2.2390 - acc: 0.1323 - val_loss: 2.3136 - val_acc: 0.1149\n"
     ]
    },
    {
     "name": "stdout",
     "output_type": "stream",
     "text": [
      "Epoch 56/100\n",
      "50000/50000 [==============================] - 15s 291us/step - loss: 2.2283 - acc: 0.1340 - val_loss: 2.3207 - val_acc: 0.1199\n",
      "Epoch 57/100\n",
      "50000/50000 [==============================] - 14s 290us/step - loss: 2.2333 - acc: 0.1339 - val_loss: 2.3176 - val_acc: 0.1151\n",
      "Epoch 58/100\n",
      "50000/50000 [==============================] - 14s 289us/step - loss: 2.2416 - acc: 0.1309 - val_loss: 2.3100 - val_acc: 0.1159\n",
      "Epoch 59/100\n",
      "50000/50000 [==============================] - 15s 291us/step - loss: 2.2302 - acc: 0.1349 - val_loss: 2.3079 - val_acc: 0.1292\n",
      "Epoch 60/100\n",
      "50000/50000 [==============================] - 15s 292us/step - loss: 2.2273 - acc: 0.1383 - val_loss: 2.2999 - val_acc: 0.1258\n",
      "Epoch 61/100\n",
      "50000/50000 [==============================] - 14s 289us/step - loss: 2.2273 - acc: 0.1371 - val_loss: 2.3122 - val_acc: 0.1265\n",
      "Epoch 62/100\n",
      "50000/50000 [==============================] - 15s 290us/step - loss: 2.2095 - acc: 0.1485 - val_loss: 2.2945 - val_acc: 0.1490\n",
      "Epoch 63/100\n",
      "50000/50000 [==============================] - 15s 295us/step - loss: 2.2165 - acc: 0.1441 - val_loss: 2.3256 - val_acc: 0.1197\n",
      "Epoch 64/100\n",
      "50000/50000 [==============================] - 15s 291us/step - loss: 2.2095 - acc: 0.1474 - val_loss: 2.3367 - val_acc: 0.1225\n",
      "Epoch 65/100\n",
      "50000/50000 [==============================] - 14s 289us/step - loss: 2.2090 - acc: 0.1458 - val_loss: 2.3195 - val_acc: 0.1296\n",
      "Epoch 66/100\n",
      "50000/50000 [==============================] - 14s 289us/step - loss: 2.2071 - acc: 0.1487 - val_loss: 2.3214 - val_acc: 0.1306\n",
      "Epoch 67/100\n",
      "50000/50000 [==============================] - 15s 294us/step - loss: 2.2009 - acc: 0.1528 - val_loss: 2.3194 - val_acc: 0.1279\n",
      "Epoch 68/100\n",
      "50000/50000 [==============================] - 15s 298us/step - loss: 2.2034 - acc: 0.1514 - val_loss: 2.2819 - val_acc: 0.1458\n",
      "Epoch 69/100\n",
      "50000/50000 [==============================] - 15s 298us/step - loss: 2.1978 - acc: 0.1550 - val_loss: 2.3201 - val_acc: 0.1270\n",
      "Epoch 70/100\n",
      "50000/50000 [==============================] - 15s 299us/step - loss: 2.2182 - acc: 0.1447 - val_loss: 2.3031 - val_acc: 0.1170\n",
      "Epoch 71/100\n",
      "50000/50000 [==============================] - 15s 303us/step - loss: 2.2104 - acc: 0.1466 - val_loss: 2.2793 - val_acc: 0.1400\n",
      "Epoch 72/100\n",
      "50000/50000 [==============================] - 15s 301us/step - loss: 2.2010 - acc: 0.1516 - val_loss: 2.2999 - val_acc: 0.1334\n",
      "Epoch 73/100\n",
      "50000/50000 [==============================] - 15s 304us/step - loss: 2.1936 - acc: 0.1565 - val_loss: 2.3178 - val_acc: 0.1298\n",
      "Epoch 74/100\n",
      "50000/50000 [==============================] - 15s 309us/step - loss: 2.1939 - acc: 0.1556 - val_loss: 2.2940 - val_acc: 0.1428\n",
      "Epoch 75/100\n",
      "50000/50000 [==============================] - 16s 311us/step - loss: 2.1973 - acc: 0.1549 - val_loss: 2.3345 - val_acc: 0.1271\n",
      "Epoch 76/100\n",
      "50000/50000 [==============================] - 15s 306us/step - loss: 2.1908 - acc: 0.1571 - val_loss: 2.3176 - val_acc: 0.1525\n",
      "Epoch 77/100\n",
      "50000/50000 [==============================] - 15s 307us/step - loss: 2.1916 - acc: 0.1553 - val_loss: 2.3133 - val_acc: 0.1381\n",
      "Epoch 78/100\n",
      "50000/50000 [==============================] - 16s 314us/step - loss: 2.1860 - acc: 0.1606 - val_loss: 2.2945 - val_acc: 0.1412\n",
      "Epoch 79/100\n",
      "50000/50000 [==============================] - 16s 314us/step - loss: 2.1877 - acc: 0.1569 - val_loss: 2.3217 - val_acc: 0.1321\n",
      "Epoch 80/100\n",
      "50000/50000 [==============================] - 16s 312us/step - loss: 2.1865 - acc: 0.1611 - val_loss: 2.2999 - val_acc: 0.1407\n",
      "Epoch 81/100\n",
      "50000/50000 [==============================] - 16s 313us/step - loss: 2.1915 - acc: 0.1556 - val_loss: 2.2960 - val_acc: 0.1407\n",
      "Epoch 82/100\n",
      "50000/50000 [==============================] - 16s 316us/step - loss: 2.1800 - acc: 0.1642 - val_loss: 2.2997 - val_acc: 0.1534\n",
      "Epoch 83/100\n",
      "50000/50000 [==============================] - 16s 313us/step - loss: 2.1836 - acc: 0.1617 - val_loss: 2.3101 - val_acc: 0.1465\n",
      "Epoch 84/100\n",
      "50000/50000 [==============================] - 15s 310us/step - loss: 2.1768 - acc: 0.1668 - val_loss: 2.3242 - val_acc: 0.1335\n",
      "Epoch 85/100\n",
      "50000/50000 [==============================] - 15s 307us/step - loss: 2.1749 - acc: 0.1648 - val_loss: 2.3293 - val_acc: 0.1436\n",
      "Epoch 86/100\n",
      "50000/50000 [==============================] - 16s 311us/step - loss: 2.1760 - acc: 0.1647 - val_loss: 2.3184 - val_acc: 0.1525\n",
      "Epoch 87/100\n",
      "50000/50000 [==============================] - 16s 316us/step - loss: 2.1800 - acc: 0.1656 - val_loss: 2.3014 - val_acc: 0.1531\n",
      "Epoch 88/100\n",
      "50000/50000 [==============================] - 15s 306us/step - loss: 2.1773 - acc: 0.1666 - val_loss: 2.2872 - val_acc: 0.1627\n",
      "Epoch 89/100\n",
      "50000/50000 [==============================] - 15s 307us/step - loss: 2.1679 - acc: 0.1717 - val_loss: 2.2897 - val_acc: 0.1449\n",
      "Epoch 90/100\n",
      "50000/50000 [==============================] - 15s 305us/step - loss: 2.1724 - acc: 0.1709 - val_loss: 2.2921 - val_acc: 0.1539\n",
      "Epoch 91/100\n",
      "50000/50000 [==============================] - 15s 302us/step - loss: 2.1689 - acc: 0.1732 - val_loss: 2.3062 - val_acc: 0.1507\n",
      "Epoch 92/100\n",
      "50000/50000 [==============================] - 15s 301us/step - loss: 2.1698 - acc: 0.1737 - val_loss: 2.3213 - val_acc: 0.1352\n",
      "Epoch 93/100\n",
      "50000/50000 [==============================] - 15s 302us/step - loss: 2.1683 - acc: 0.1712 - val_loss: 2.3460 - val_acc: 0.1515\n",
      "Epoch 94/100\n",
      "50000/50000 [==============================] - 15s 303us/step - loss: 2.1651 - acc: 0.1730 - val_loss: 2.3123 - val_acc: 0.1473\n",
      "Epoch 95/100\n",
      "50000/50000 [==============================] - 15s 305us/step - loss: 2.1658 - acc: 0.1747 - val_loss: 2.3010 - val_acc: 0.1462\n",
      "Epoch 96/100\n",
      "50000/50000 [==============================] - 15s 301us/step - loss: 2.1639 - acc: 0.1734 - val_loss: 2.3174 - val_acc: 0.1460\n",
      "Epoch 97/100\n",
      "50000/50000 [==============================] - 15s 301us/step - loss: 2.1615 - acc: 0.1715 - val_loss: 2.3164 - val_acc: 0.1563\n",
      "Epoch 98/100\n",
      "50000/50000 [==============================] - 15s 301us/step - loss: 2.1651 - acc: 0.1734 - val_loss: 2.3381 - val_acc: 0.1500\n",
      "Epoch 99/100\n",
      "50000/50000 [==============================] - 15s 302us/step - loss: 2.1582 - acc: 0.1760 - val_loss: 2.3337 - val_acc: 0.1421\n",
      "Epoch 100/100\n",
      "50000/50000 [==============================] - 15s 299us/step - loss: 2.1649 - acc: 0.1722 - val_loss: 2.3221 - val_acc: 0.1537\n"
     ]
    },
    {
     "data": {
      "text/plain": [
       "<keras.callbacks.History at 0x27a012e0208>"
      ]
     },
     "execution_count": 36,
     "metadata": {},
     "output_type": "execute_result"
    }
   ],
   "source": [
    "model.fit(x_train, y_train, \n",
    "          epochs=EPOCHS, \n",
    "          batch_size=BATCH_SIZE, \n",
    "          validation_data=(x_test, y_test), \n",
    "          shuffle=True)"
   ]
  },
  {
   "cell_type": "code",
   "execution_count": 38,
   "metadata": {},
   "outputs": [
    {
     "data": {
      "image/png": "[encoded data removed]",
      "text/plain": [
       "<Figure size 432x288 with 1 Axes>"
      ]
     },
     "metadata": {
      "needs_background": "light"
     },
     "output_type": "display_data"
    },
    {
     "data": {
      "image/png": "[encoded data removed]",
      "text/plain": [
       "<Figure size 432x288 with 1 Axes>"
      ]
     },
     "metadata": {
      "needs_background": "light"
     },
     "output_type": "display_data"
    }
   ],
   "source": [
    "import matplotlib.pyplot as plt\n",
    "\n",
    "\n",
    "train_loss = model.history.history[\"loss\"]\n",
    "valid_loss = model.history.history[\"val_loss\"]\n",
    "\n",
    "train_acc = model.history.history[\"acc\"]\n",
    "valid_acc = model.history.history[\"val_acc\"]\n",
    "\n",
    "plt.plot(range(len(train_loss)), train_loss, label=\"train loss\")\n",
    "plt.plot(range(len(valid_loss)), valid_loss, label=\"valid loss\")\n",
    "plt.legend()\n",
    "plt.title(\"Loss\")\n",
    "plt.show()\n",
    "\n",
    "plt.plot(range(len(train_acc)), train_acc, label=\"train accuracy\")\n",
    "plt.plot(range(len(valid_acc)), valid_acc, label=\"valid accuracy\")\n",
    "plt.legend()\n",
    "plt.title(\"Accuracy\")\n",
    "plt.show()"
   ]
  }
 ],
 "metadata": {
  "kernelspec": {
   "display_name": "Python 3",
   "language": "python",
   "name": "python3"
  },
  "language_info": {
   "codemirror_mode": {
    "name": "ipython",
    "version": 3
   },
   "file_extension": ".py",
   "mimetype": "text/x-python",
   "name": "python",
   "nbconvert_exporter": "python",
   "pygments_lexer": "ipython3",
   "version": "3.7.3"
  }
 },
 "nbformat": 4,
 "nbformat_minor": 2
}
