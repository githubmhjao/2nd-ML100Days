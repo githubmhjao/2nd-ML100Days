{
 "cells": [
  {
   "cell_type": "markdown",
   "metadata": {},
   "source": [
    "## 作業\n",
    "嘗試比較用 color histogram 和 HOG 特徵來訓練的 SVM 分類器在 cifar10 training 和 testing data 上準確度的差別"
   ]
  },
  {
   "cell_type": "code",
   "execution_count": 1,
   "metadata": {},
   "outputs": [
    {
     "name": "stderr",
     "output_type": "stream",
     "text": [
      "Using TensorFlow backend.\n"
     ]
    }
   ],
   "source": [
    "import os\n",
    "import keras\n",
    "os.environ[\"CUDA_VISIBLE_DEVICES\"] = \"\" # 使用 CPU\n",
    "\n",
    "import numpy as np\n",
    "import cv2 # 載入 cv2 套件\n",
    "import matplotlib.pyplot as plt\n",
    "\n",
    "train, test = keras.datasets.cifar10.load_data()"
   ]
  },
  {
   "cell_type": "code",
   "execution_count": 2,
   "metadata": {},
   "outputs": [],
   "source": [
    "x_train, y_train = train\n",
    "x_test, y_test = test\n",
    "y_train = y_train.astype(int)\n",
    "y_test = y_test.astype(int)"
   ]
  },
  {
   "cell_type": "markdown",
   "metadata": {},
   "source": [
    "#### 產生直方圖特徵的訓練資料"
   ]
  },
  {
   "cell_type": "code",
   "execution_count": 3,
   "metadata": {},
   "outputs": [],
   "source": [
    "x_train_histogram = []\n",
    "x_test_histogram = []\n",
    "\n",
    "# 對於所有訓練資料\n",
    "for i in range(len(x_train)):\n",
    "    chans = cv2.split(x_train[i]) # 把圖像的 3 個 channel 切分出來\n",
    "    # 對於所有 channel\n",
    "    hist_feature = []\n",
    "    for chan in chans:\n",
    "        # 計算該 channel 的直方圖\n",
    "        hist = cv2.calcHist([chan], [0], None, [16], [0, 256]) # 切成 16 個 bin\n",
    "        hist_feature.extend(hist.flatten())\n",
    "    # 把計算的直方圖特徵收集起來\n",
    "    x_train_histogram.append(hist_feature)\n",
    "\n",
    "# 對於所有測試資料也做一樣的處理\n",
    "for i in range(len(x_test)):\n",
    "    chans = cv2.split(x_test[i]) # 把圖像的 3 個 channel 切分出來\n",
    "    # 對於所有 channel\n",
    "    hist_feature = []\n",
    "    for chan in chans:\n",
    "        # 計算該 channel 的直方圖\n",
    "        hist = cv2.calcHist([chan], [0], None, [16], [0, 256]) # 切成 16 個 bin\n",
    "        hist_feature.extend(hist.flatten())\n",
    "    x_test_histogram.append(hist_feature)\n",
    "\n",
    "x_train_histogram = np.array(x_train_histogram)\n",
    "x_test_histogram = np.array(x_test_histogram)\n"
   ]
  },
  {
   "cell_type": "markdown",
   "metadata": {},
   "source": [
    "#### 產生 HOG 特徵的訓練資料\n",
    "* HOG 特徵通過計算和統計圖像局部區域的梯度方向直方圖來構建特徵，具體細節不在我們涵蓋的範圍裡面，有興趣的同學請參考[補充資料](https://www.cnblogs.com/zyly/p/9651261.html)哦"
   ]
  },
  {
   "cell_type": "code",
   "execution_count": 4,
   "metadata": {},
   "outputs": [],
   "source": [
    "# SZ=20\n",
    "bin_n = 16 # Number of bins\n",
    "\n",
    "def hog(img):\n",
    "    img = cv2.cvtColor(img, cv2.COLOR_RGB2GRAY)\n",
    "    gx = cv2.Sobel(img, cv2.CV_32F, 1, 0)\n",
    "    gy = cv2.Sobel(img, cv2.CV_32F, 0, 1)\n",
    "    mag, ang = cv2.cartToPolar(gx, gy)\n",
    "    bins = np.int32(bin_n*ang/(2*np.pi))    # quantizing binvalues in (0...16)\n",
    "    bin_cells = bins[:10,:10], bins[10:,:10], bins[:10,10:], bins[10:,10:]\n",
    "    mag_cells = mag[:10,:10], mag[10:,:10], mag[:10,10:], mag[10:,10:]\n",
    "    hists = [np.bincount(b.ravel(), m.ravel(), bin_n) for b, m in zip(bin_cells, mag_cells)]\n",
    "    hist = np.hstack(hists)     # hist is a 64 bit vector\n",
    "    return hist.astype(np.float32)\n",
    "\n",
    "x_train_hog = np.array([hog(x) for x in x_train])\n",
    "x_test_hog = np.array([hog(x) for x in x_test])"
   ]
  },
  {
   "cell_type": "markdown",
   "metadata": {},
   "source": [
    "#### SVM model\n",
    "* SVM 是機器學習中一個經典的分類算法，具體細節有興趣可以參考 [該知乎上的解釋](https://www.zhihu.com/question/21094489)，我們這裡直接調用 opencv 中實現好的函數"
   ]
  },
  {
   "cell_type": "markdown",
   "metadata": {},
   "source": [
    "#### 用 histogram 特徵訓練 SVM 模型\n",
    "* 訓練過程可能會花點時間，請等他一下"
   ]
  },
  {
   "cell_type": "code",
   "execution_count": 5,
   "metadata": {},
   "outputs": [],
   "source": [
    "from sklearn.metrics import confusion_matrix, accuracy_score"
   ]
  },
  {
   "cell_type": "code",
   "execution_count": 6,
   "metadata": {},
   "outputs": [],
   "source": [
    "SVM_hist = cv2.ml.SVM_create()\n",
    "SVM_hist.setKernel(cv2.ml.SVM_LINEAR)\n",
    "SVM_hist.setGamma(5.383)\n",
    "SVM_hist.setType(cv2.ml.SVM_C_SVC)\n",
    "SVM_hist.setC(2.67)\n",
    "\n",
    "#training\n",
    "SVM_hist.train(x_train_histogram, cv2.ml.ROW_SAMPLE, y_train)\n",
    "\n",
    "# prediction\n",
    "_, y_hist_train = SVM_hist.predict(x_train_histogram)\n",
    "_, y_hist_test = SVM_hist.predict(x_test_histogram)\n",
    "\n",
    "hist_train_cm = confusion_matrix(y_train, y_hist_train)\n",
    "hist_test_cm = confusion_matrix(y_test, y_hist_test)"
   ]
  },
  {
   "cell_type": "code",
   "execution_count": 7,
   "metadata": {},
   "outputs": [
    {
     "name": "stdout",
     "output_type": "stream",
     "text": [
      "Train Acc: 0.14846\n"
     ]
    },
    {
     "data": {
      "image/png": "[encoded data removed]",
      "text/plain": [
       "<Figure size 288x288 with 2 Axes>"
      ]
     },
     "metadata": {
      "needs_background": "light"
     },
     "output_type": "display_data"
    },
    {
     "name": "stdout",
     "output_type": "stream",
     "text": [
      "Test Acc: 0.1448\n"
     ]
    },
    {
     "data": {
      "image/png": "[encoded data removed]",
      "text/plain": [
       "<Figure size 288x288 with 2 Axes>"
      ]
     },
     "metadata": {
      "needs_background": "light"
     },
     "output_type": "display_data"
    }
   ],
   "source": [
    "print('Train Acc:', accuracy_score(y_train, y_hist_train))\n",
    "plt.matshow(hist_train_cm)\n",
    "plt.colorbar()\n",
    "plt.show()\n",
    "\n",
    "print('Test Acc:', accuracy_score(y_test, y_hist_test))\n",
    "plt.matshow(hist_test_cm)\n",
    "plt.colorbar()\n",
    "plt.show()"
   ]
  },
  {
   "cell_type": "markdown",
   "metadata": {},
   "source": [
    "#### 用 HOG 特徵訓練 SVM 模型\n",
    "* 訓練過程可能會花點時間，請等他一下"
   ]
  },
  {
   "cell_type": "code",
   "execution_count": 8,
   "metadata": {},
   "outputs": [],
   "source": [
    "SVM_hog = cv2.ml.SVM_create()\n",
    "SVM_hog.setKernel(cv2.ml.SVM_LINEAR)\n",
    "SVM_hog.setGamma(5.383)\n",
    "SVM_hog.setType(cv2.ml.SVM_C_SVC)\n",
    "SVM_hog.setC(2.67)\n",
    "\n",
    "#training\n",
    "SVM_hog.train(x_train_hog, cv2.ml.ROW_SAMPLE, y_train)\n",
    "\n",
    "# prediction\n",
    "_, y_hog_train = SVM_hog.predict(x_train_hog)\n",
    "_, y_hog_test = SVM_hog.predict(x_test_hog)"
   ]
  },
  {
   "cell_type": "code",
   "execution_count": 9,
   "metadata": {},
   "outputs": [],
   "source": [
    "hog_train_cm = confusion_matrix(y_train, y_hog_train)\n",
    "hog_test_cm = confusion_matrix(y_test, y_hog_test)"
   ]
  },
  {
   "cell_type": "code",
   "execution_count": 10,
   "metadata": {},
   "outputs": [
    {
     "name": "stdout",
     "output_type": "stream",
     "text": [
      "Train Acc: 0.20592\n"
     ]
    },
    {
     "data": {
      "image/png": "[encoded data removed]",
      "text/plain": [
       "<Figure size 288x288 with 2 Axes>"
      ]
     },
     "metadata": {
      "needs_background": "light"
     },
     "output_type": "display_data"
    },
    {
     "name": "stdout",
     "output_type": "stream",
     "text": [
      "Test Acc: 0.2058\n"
     ]
    },
    {
     "data": {
      "image/png": "[encoded data removed]",
      "text/plain": [
       "<Figure size 288x288 with 2 Axes>"
      ]
     },
     "metadata": {
      "needs_background": "light"
     },
     "output_type": "display_data"
    }
   ],
   "source": [
    "print('Train Acc:', accuracy_score(y_train, y_hog_train))\n",
    "plt.matshow(hog_train_cm)\n",
    "plt.colorbar()\n",
    "plt.show()\n",
    "\n",
    "print('Test Acc:', accuracy_score(y_test, y_hog_test))\n",
    "plt.matshow(hog_test_cm)\n",
    "plt.colorbar()\n",
    "plt.show()"
   ]
  },
  {
   "cell_type": "markdown",
   "metadata": {},
   "source": [
    "## 作業\n",
    "嘗試比較用 color histogram 和 HOG 特徵來訓練的 SVM 分類器在 cifar10 training 和 testing data 上準確度的差別"
   ]
  },
  {
   "cell_type": "code",
   "execution_count": 11,
   "metadata": {},
   "outputs": [
    {
     "name": "stdout",
     "output_type": "stream",
     "text": [
      "93.8\n"
     ]
    }
   ],
   "source": [
    "import cv2 as cv\n",
    "import numpy as np\n",
    "\n",
    "SZ=20\n",
    "bin_n = 16 # Number of bins\n",
    "\n",
    "\n",
    "affine_flags = cv.WARP_INVERSE_MAP|cv.INTER_LINEAR\n",
    "\n",
    "## [deskew]\n",
    "def deskew(img):\n",
    "    m = cv.moments(img)\n",
    "    if abs(m['mu02']) < 1e-2:\n",
    "        return img.copy()\n",
    "    skew = m['mu11']/m['mu02']\n",
    "    M = np.float32([[1, skew, -0.5*SZ*skew], [0, 1, 0]])\n",
    "    img = cv.warpAffine(img,M,(SZ, SZ),flags=affine_flags)\n",
    "    return img\n",
    "## [deskew]\n",
    "\n",
    "## [hog]\n",
    "def hog(img):\n",
    "    gx = cv.Sobel(img, cv.CV_32F, 1, 0)\n",
    "    gy = cv.Sobel(img, cv.CV_32F, 0, 1)\n",
    "    mag, ang = cv.cartToPolar(gx, gy)\n",
    "    bins = np.int32(bin_n*ang/(2*np.pi))    # quantizing binvalues in (0...16)\n",
    "    bin_cells = bins[:10,:10], bins[10:,:10], bins[:10,10:], bins[10:,10:]\n",
    "    mag_cells = mag[:10,:10], mag[10:,:10], mag[:10,10:], mag[10:,10:]\n",
    "    hists = [np.bincount(b.ravel(), m.ravel(), bin_n) for b, m in zip(bin_cells, mag_cells)]\n",
    "    hist = np.hstack(hists)     # hist is a 64 bit vector\n",
    "    return hist\n",
    "## [hog]\n",
    "\n",
    "img = cv.imread('digits.png',0)\n",
    "if img is None:\n",
    "    raise Exception(\"we need the digits.png image from samples/data here !\")\n",
    "\n",
    "\n",
    "cells = [np.hsplit(row,100) for row in np.vsplit(img,50)]\n",
    "\n",
    "# First half is trainData, remaining is testData\n",
    "train_cells = [ i[:50] for i in cells ]\n",
    "test_cells = [ i[50:] for i in cells]\n",
    "\n",
    "######     Now training      ########################\n",
    "\n",
    "deskewed = [list(map(deskew,row)) for row in train_cells]\n",
    "hogdata = [list(map(hog,row)) for row in deskewed]\n",
    "trainData = np.float32(hogdata).reshape(-1,64)\n",
    "responses = np.repeat(np.arange(10),250)[:,np.newaxis]\n",
    "\n",
    "svm = cv.ml.SVM_create()\n",
    "svm.setKernel(cv.ml.SVM_LINEAR)\n",
    "svm.setType(cv.ml.SVM_C_SVC)\n",
    "svm.setC(2.67)\n",
    "svm.setGamma(5.383)\n",
    "\n",
    "svm.train(trainData, cv.ml.ROW_SAMPLE, responses)\n",
    "svm.save('svm_data.dat')\n",
    "\n",
    "######     Now testing      ########################\n",
    "\n",
    "deskewed = [list(map(deskew,row)) for row in test_cells]\n",
    "hogdata = [list(map(hog,row)) for row in deskewed]\n",
    "testData = np.float32(hogdata).reshape(-1,bin_n*4)\n",
    "result = svm.predict(testData)[1]\n",
    "\n",
    "#######   Check Accuracy   ########################\n",
    "mask = result==responses\n",
    "correct = np.count_nonzero(mask)\n",
    "print(correct*100.0/result.size)"
   ]
  }
 ],
 "metadata": {
  "kernelspec": {
   "display_name": "Python 3",
   "language": "python",
   "name": "python3"
  },
  "language_info": {
   "codemirror_mode": {
    "name": "ipython",
    "version": 3
   },
   "file_extension": ".py",
   "mimetype": "text/x-python",
   "name": "python",
   "nbconvert_exporter": "python",
   "pygments_lexer": "ipython3",
   "version": "3.7.3"
  }
 },
 "nbformat": 4,
 "nbformat_minor": 2
}
